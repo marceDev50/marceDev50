{
  "nbformat": 4,
  "nbformat_minor": 0,
  "metadata": {
    "colab": {
      "provenance": [],
      "authorship_tag": "ABX9TyN4IWscbIq3/oNs593HRIHo",
      "include_colab_link": true
    },
    "kernelspec": {
      "name": "python3",
      "display_name": "Python 3"
    },
    "language_info": {
      "name": "python"
    }
  },
  "cells": [
    {
      "cell_type": "markdown",
      "metadata": {
        "id": "view-in-github",
        "colab_type": "text"
      },
      "source": [
        "<a href=\"https://colab.research.google.com/github/marceDev50/marceDev50/blob/main/Criador_de_Relat%C3%B3rios_Autom%C3%A1ticos_em_PDF.ipynb\" target=\"_parent\"><img src=\"https://colab.research.google.com/assets/colab-badge.svg\" alt=\"Open In Colab\"/></a>"
      ]
    },
    {
      "cell_type": "code",
      "source": [
        "!pip install reportlab\n"
      ],
      "metadata": {
        "colab": {
          "base_uri": "https://localhost:8080/"
        },
        "id": "ACw9HlQYA6du",
        "outputId": "bfbee811-585d-49b7-e551-89485fc54fa1"
      },
      "execution_count": 2,
      "outputs": [
        {
          "output_type": "stream",
          "name": "stdout",
          "text": [
            "Collecting reportlab\n",
            "  Downloading reportlab-4.2.5-py3-none-any.whl.metadata (1.5 kB)\n",
            "Requirement already satisfied: pillow>=9.0.0 in /usr/local/lib/python3.11/dist-packages (from reportlab) (11.1.0)\n",
            "Requirement already satisfied: chardet in /usr/local/lib/python3.11/dist-packages (from reportlab) (5.2.0)\n",
            "Downloading reportlab-4.2.5-py3-none-any.whl (1.9 MB)\n",
            "\u001b[?25l   \u001b[90m━━━━━━━━━━━━━━━━━━━━━━━━━━━━━━━━━━━━━━━━\u001b[0m \u001b[32m0.0/1.9 MB\u001b[0m \u001b[31m?\u001b[0m eta \u001b[36m-:--:--\u001b[0m\r\u001b[2K   \u001b[91m━━━━━━━━━━━\u001b[0m\u001b[90m╺\u001b[0m\u001b[90m━━━━━━━━━━━━━━━━━━━━━━━━━━━━\u001b[0m \u001b[32m0.6/1.9 MB\u001b[0m \u001b[31m18.3 MB/s\u001b[0m eta \u001b[36m0:00:01\u001b[0m\r\u001b[2K   \u001b[91m━━━━━━━━━━━━━━━━━━━━━━━━━━━━━━━━━━━━━━━\u001b[0m\u001b[91m╸\u001b[0m \u001b[32m1.9/1.9 MB\u001b[0m \u001b[31m39.2 MB/s\u001b[0m eta \u001b[36m0:00:01\u001b[0m\r\u001b[2K   \u001b[90m━━━━━━━━━━━━━━━━━━━━━━━━━━━━━━━━━━━━━━━━\u001b[0m \u001b[32m1.9/1.9 MB\u001b[0m \u001b[31m26.4 MB/s\u001b[0m eta \u001b[36m0:00:00\u001b[0m\n",
            "\u001b[?25hInstalling collected packages: reportlab\n",
            "Successfully installed reportlab-4.2.5\n"
          ]
        }
      ]
    },
    {
      "cell_type": "code",
      "source": [
        "import pandas as pd\n",
        "import matplotlib.pyplot as plt\n",
        "from reportlab.lib.pagesizes import letter\n",
        "from reportlab.pdfgen import canvas\n",
        "from reportlab.lib.utils import ImageReader\n",
        "import tempfile\n",
        "\n",
        "# Carregar os dados (exemplo fictício de desempenho escolar)\n",
        "dados = {\n",
        "    \"Aluno\": [\"Alice\", \"Bruno\", \"Carlos\", \"Diana\", \"Eduardo\"],\n",
        "    \"Nota 1\": [8.5, 7.2, 6.8, 9.0, 5.5],\n",
        "    \"Nota 2\": [7.8, 6.5, 7.2, 8.7, 6.0],\n",
        "    \"Frequência (%)\": [90, 85, 80, 95, 70]\n",
        "}\n",
        "df = pd.DataFrame(dados)\n",
        "\n",
        "# Criar gráfico de desempenho\n",
        "temp_img = tempfile.NamedTemporaryFile(delete=False, suffix=\".png\").name\n",
        "plt.figure(figsize=(6, 4))\n",
        "df.set_index(\"Aluno\")[[\"Nota 1\", \"Nota 2\"]].plot(kind=\"bar\", ylim=(0, 10))\n",
        "plt.title(\"Desempenho Escolar\")\n",
        "plt.ylabel(\"Nota\")\n",
        "plt.xticks(rotation=0)\n",
        "plt.savefig(temp_img)\n",
        "plt.close()\n",
        "\n",
        "# Criar PDF\n",
        "pdf_filename = \"relatorio.pdf\"\n",
        "c = canvas.Canvas(pdf_filename, pagesize=letter)\n",
        "width, height = letter\n",
        "\n",
        "# Adicionar título\n",
        "c.setFont(\"Helvetica-Bold\", 8)\n",
        "c.drawString(200, height - 50, \"Relatório de Desempenho Escolar by Marcelo Alves de Souza PCG E.E República Dominicana\")\n",
        "\n",
        "# Adicionar gráfico\n",
        "c.drawImage(ImageReader(temp_img), 100, height - 300, width=400, height=200)\n",
        "\n",
        "# Adicionar tabela de dados\n",
        "c.setFont(\"Helvetica\", 12)\n",
        "y_position = height - 320\n",
        "for col in df.columns:\n",
        "    c.drawString(50, y_position, col)\n",
        "    x_position = 150\n",
        "    for val in df[col]:\n",
        "        c.drawString(x_position, y_position, str(val))\n",
        "        x_position += 100\n",
        "    y_position -= 20\n",
        "\n",
        "# Salvar PDF\n",
        "c.save()\n",
        "print(f\"Relatório salvo como {pdf_filename}\")\n"
      ],
      "metadata": {
        "colab": {
          "base_uri": "https://localhost:8080/",
          "height": 52
        },
        "id": "yh0SKf__BEM1",
        "outputId": "03e00c90-f7ab-496d-e747-cf897ada726f"
      },
      "execution_count": 18,
      "outputs": [
        {
          "output_type": "stream",
          "name": "stdout",
          "text": [
            "Relatório salvo como relatorio.pdf\n"
          ]
        },
        {
          "output_type": "display_data",
          "data": {
            "text/plain": [
              "<Figure size 600x400 with 0 Axes>"
            ]
          },
          "metadata": {}
        }
      ]
    },
    {
      "cell_type": "code",
      "source": [
        "from google.colab import files\n",
        "files.download(\"relatorio.pdf\")\n",
        "\n"
      ],
      "metadata": {
        "colab": {
          "base_uri": "https://localhost:8080/",
          "height": 17
        },
        "id": "M8FxWI2fBla9",
        "outputId": "e1160d19-d4b2-48c3-9532-1c00457daa08"
      },
      "execution_count": 19,
      "outputs": [
        {
          "output_type": "display_data",
          "data": {
            "text/plain": [
              "<IPython.core.display.Javascript object>"
            ],
            "application/javascript": [
              "\n",
              "    async function download(id, filename, size) {\n",
              "      if (!google.colab.kernel.accessAllowed) {\n",
              "        return;\n",
              "      }\n",
              "      const div = document.createElement('div');\n",
              "      const label = document.createElement('label');\n",
              "      label.textContent = `Downloading \"${filename}\": `;\n",
              "      div.appendChild(label);\n",
              "      const progress = document.createElement('progress');\n",
              "      progress.max = size;\n",
              "      div.appendChild(progress);\n",
              "      document.body.appendChild(div);\n",
              "\n",
              "      const buffers = [];\n",
              "      let downloaded = 0;\n",
              "\n",
              "      const channel = await google.colab.kernel.comms.open(id);\n",
              "      // Send a message to notify the kernel that we're ready.\n",
              "      channel.send({})\n",
              "\n",
              "      for await (const message of channel.messages) {\n",
              "        // Send a message to notify the kernel that we're ready.\n",
              "        channel.send({})\n",
              "        if (message.buffers) {\n",
              "          for (const buffer of message.buffers) {\n",
              "            buffers.push(buffer);\n",
              "            downloaded += buffer.byteLength;\n",
              "            progress.value = downloaded;\n",
              "          }\n",
              "        }\n",
              "      }\n",
              "      const blob = new Blob(buffers, {type: 'application/binary'});\n",
              "      const a = document.createElement('a');\n",
              "      a.href = window.URL.createObjectURL(blob);\n",
              "      a.download = filename;\n",
              "      div.appendChild(a);\n",
              "      a.click();\n",
              "      div.remove();\n",
              "    }\n",
              "  "
            ]
          },
          "metadata": {}
        },
        {
          "output_type": "display_data",
          "data": {
            "text/plain": [
              "<IPython.core.display.Javascript object>"
            ],
            "application/javascript": [
              "download(\"download_8bc7263e-1a52-4719-94bb-8d8c8a316912\", \"relatorio.pdf\", 20684)"
            ]
          },
          "metadata": {}
        }
      ]
    },
    {
      "cell_type": "code",
      "source": [
        "import pandas as pd\n",
        "import matplotlib.pyplot as plt\n",
        "from reportlab.lib.pagesizes import letter\n",
        "from reportlab.pdfgen import canvas\n",
        "from reportlab.lib.utils import ImageReader\n",
        "import tempfile\n",
        "\n",
        "# Carregar os dados de um arquivo CSV\n",
        "def carregar_dados(csv_filename):\n",
        "    try:\n",
        "        df = pd.read_csv(csv_filename)\n",
        "        return df\n",
        "    except Exception as e:\n",
        "        print(f\"Erro ao carregar o arquivo CSV: {e}\")\n",
        "        return None\n",
        "\n",
        "# Nome do arquivo CSV (altere conforme necessário)\n",
        "csv_filename = \"dados.csv\"\n",
        "df = carregar_dados(csv_filename)\n",
        "\n",
        "if df is not None:\n",
        "    # Criar gráfico de desempenho\n",
        "    temp_img = tempfile.NamedTemporaryFile(delete=False, suffix=\".png\").name\n",
        "    plt.figure(figsize=(6, 4))\n",
        "    df.set_index(df.columns[0]).plot(kind=\"bar\", ylim=(0, 10))\n",
        "    plt.title(\"Desempenho Escolar\")\n",
        "    plt.ylabel(\"Nota\")\n",
        "    plt.xticks(rotation=0)\n",
        "    plt.savefig(temp_img)\n",
        "    plt.close()\n",
        "\n",
        "    # Criar PDF\n",
        "    pdf_filename = \"relatorio.pdf\"\n",
        "    c = canvas.Canvas(pdf_filename, pagesize=letter)\n",
        "    width, height = letter\n",
        "\n",
        "    # Adicionar título\n",
        "    c.setFont(\"Helvetica-Bold\", 16)\n",
        "    c.drawString(200, height - 50, \"Relatório de Desempenho Escolar by Marcelo Alves de Souza PCG E.E República Dominicana\")\n",
        "\n",
        "    # Adicionar gráfico\n",
        "    c.drawImage(ImageReader(temp_img), 100, height - 300, width=400, height=200)\n",
        "\n",
        "    # Adicionar tabela de dados\n",
        "    c.setFont(\"Helvetica\", 12)\n",
        "    y_position = height - 320\n",
        "    for col in df.columns:\n",
        "        c.drawString(50, y_position, col)\n",
        "        x_position = 150\n",
        "        for val in df[col]:\n",
        "            c.drawString(x_position, y_position, str(val))\n",
        "            x_position += 100\n",
        "        y_position -= 20\n",
        "\n",
        "    # Salvar PDF\n",
        "    c.save()\n",
        "    print(f\"Relatório salvo como {pdf_filename}\")\n"
      ],
      "metadata": {
        "colab": {
          "base_uri": "https://localhost:8080/"
        },
        "id": "d5scTWF7DvDW",
        "outputId": "781d8fe4-bf15-47d1-acf0-3646f8c9d85c"
      },
      "execution_count": 11,
      "outputs": [
        {
          "output_type": "stream",
          "name": "stdout",
          "text": [
            "Erro ao carregar o arquivo CSV: [Errno 2] No such file or directory: 'dados.csv'\n"
          ]
        }
      ]
    }
  ]
}